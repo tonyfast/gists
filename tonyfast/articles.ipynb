{
 "cells": [
  {
   "cell_type": "code",
   "execution_count": 1,
   "metadata": {},
   "outputs": [],
   "source": [
    "import pathlib, collections, ipywidgets, contextlib\n",
    "__all__ = 'articles',"
   ]
  },
  {
   "cell_type": "code",
   "execution_count": 2,
   "metadata": {},
   "outputs": [],
   "source": [
    "class Docs(collections.UserDict):\n",
    "    mode = 'markdown'\n",
    "    repr = __import__('IPython').display.Markdown\n",
    "    def __getitem__(self, object): return self.repr(\n",
    "        __import__('nbconvert').get_exporter(self.mode)().from_filename(super().__getitem__(object))[0]\n",
    "    )"
   ]
  },
  {
   "cell_type": "code",
   "execution_count": 3,
   "metadata": {},
   "outputs": [],
   "source": [
    "root = pathlib.Path(globals().get('__file__', '__init__.py')).parent\n",
    "articles = Docs((str(file.relative_to(root)), file) for file in root.rglob('*.ipynb'))"
   ]
  },
  {
   "cell_type": "code",
   "execution_count": 4,
   "metadata": {},
   "outputs": [],
   "source": [
    "with contextlib.redirect_stderr(__import__('io').StringIO()):\n",
    "    @ipywidgets.interactive\n",
    "    def browse(article: articles): display(article)\n",
    "\n",
    "    _ipython_display_ = lambda:display(browse)"
   ]
  }
 ],
 "metadata": {
  "kernelspec": {
   "display_name": "Python 3",
   "language": "python",
   "name": "python3"
  },
  "language_info": {
   "codemirror_mode": {
    "name": "ipython",
    "version": 3
   },
   "file_extension": ".py",
   "mimetype": "text/x-python",
   "name": "python",
   "nbconvert_exporter": "python",
   "pygments_lexer": "ipython3",
   "version": "3.7.3"
  }
 },
 "nbformat": 4,
 "nbformat_minor": 4
}
